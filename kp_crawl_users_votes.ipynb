{
 "cells": [
  {
   "cell_type": "code",
   "execution_count": 1,
   "metadata": {},
   "outputs": [],
   "source": [
    "from tqdm import tqdm_notebook as tqdm\n",
    "\n",
    "from kp_utils import *"
   ]
  },
  {
   "cell_type": "markdown",
   "metadata": {},
   "source": [
    "### Имеется список user_id таких пользователей, у которых, возможно, имеются оценки фильмов"
   ]
  },
  {
   "cell_type": "code",
   "execution_count": 2,
   "metadata": {},
   "outputs": [],
   "source": [
    "users_with_votes_file = 'users_with_votes_new.txt'"
   ]
  },
  {
   "cell_type": "code",
   "execution_count": 3,
   "metadata": {},
   "outputs": [],
   "source": [
    "# establishing session\n",
    "s = requests.Session()\n",
    "s.headers.update({\n",
    "        'Referer': 'http://www.kinopoisk.ru',\n",
    "        'User-Agent': 'Mozilla/5.0 (Windows NT 10.0; Win64; x64) AppleWebKit/537.36 (KHTML, like Gecko) Chrome/70.0.3538.102 Safari/537.36',\n",
    "        'Host': \"www.kinopoisk.ru\",\n",
    "        'Upgrade-Insecure-Requests': '1',\n",
    "        'Cookie': \"PHPSESSID=4up7eotcg54tiekor5qfoo3t82; yandex_gid=117954; _csrf_csrf_token=xeXWigy2DNDuZs-Ykb1QOsg0tq_Rn4Y1Ea7njBiP6Pc; i=S8KSVmoEyOoErmebWK+pu4QVd5Tw1HUspTo7oFgymGi3U/w8WkR7/NLb/MNUzhFDOBDZy2QbS3S7pF2E3n12Fea7grk=; rheftjdd=rheftjddVal; _ym_uid=1537645362509535515; _ym_d=1537645362; mda=0; desktop_session_key=6c10cd08f5cd06ccd714bfd07f4230b2387298c9c136ec27907d187d966f63ed250eb3761e80522a29687dc60024de453b19c88877cbbdfb3517499260f8e878f5792b4ba9180c875195d3dba2ac83352a432df4423b4a4051e89b0a6bc0ef14; desktop_session_key.sig=m8k15zm3dmjD3o_B1kHkGBLtKBA; yandexuid=1248256091535079220; user-geo-region-id=10716; user-geo-country-id=2; fuid01=5be7557328b7241c.uZ5IYAVqbcQoZ1b7vD9M7U22ki_C1Qug649LqTF9DZMIInAeLsZQiF-YcXNWmBGOXRSfIi1EZtk3Oe6cCx9AdMxsNyHp-nzE0Eo5ZyUUPEKsdJrrqarG0lpVh-XOKku0; kpunk=1; spravka=dD0xNTQxOTM4NDM3O2k9MmEwMjo2Yjg6YzA0OjFlZTowOjE0NjQ6MDpjMzM7dT0xNTQxOTM4NDM3OTMxNTg3MzQwO2g9NDEyOTg0NDZkYmFlMmZlZjkzYjE4ODc0OWU0ZjMzYjU=; user_country=ru; tc=1; mobile=no; noflash=true; _ym_visorc_22663942=b; hideBlocks=0; my_perpages=%7B%2277%22%3A200%2C%2279votes%22%3A200%7D\",\n",
    "        'Accept-Language': 'ru-RU,ru;q=0.9,en-US;q=0.8,en;q=0.7,de;q=0.6',\n",
    "        'Referer' : 'https://www.kinopoisk.ru',\n",
    "        'Accept'  : \"text/html,application/xhtml+xml,application/xml;q=0.9,image/webp,image/apng,*/*;q=0.8\",\n",
    "        'Connection': 'keep-alive'    \n",
    "    })"
   ]
  },
  {
   "cell_type": "code",
   "execution_count": 4,
   "metadata": {},
   "outputs": [
    {
     "name": "stdout",
     "output_type": "stream",
     "text": [
      "already_processed_users:  259728\n",
      "already_saved_movies:  201744\n"
     ]
    }
   ],
   "source": [
    "out_filename_users  = 'kp_users.csv'\n",
    "out_filename_movies = 'kp_movies.csv'\n",
    "out_filename_votes = 'kp_users_votes.csv'\n",
    "\n",
    "movies = pd.read_csv(out_filename_movies, delimiter=';', header=0)\n",
    "users = pd.read_csv(out_filename_users, delimiter=';', header=0)\n",
    "already_processed_users = {int(u[0]) for u in users.values}\n",
    "already_saved_movies = {int(m[0]) for m in movies.values}\n",
    "\n",
    "print ('already_processed_users: ', len(already_processed_users))\n",
    "print ('already_saved_movies: ', len(already_saved_movies))\n",
    "\n",
    "# with open(out_filename_users, 'w',encoding='utf-8') as f:    \n",
    "#     f.write('user_id;nickname;gender;country;city;birth_date\\n')\n",
    "    \n",
    "# with open(out_filename_movies, 'w',encoding='utf-8') as f:    \n",
    "#     f.write('movie_id;href;name_rus;name_eng;rating;count_votes;duration\\n')\n",
    "    \n",
    "# with open(out_filename_votes, 'w',encoding='utf-8') as f:\n",
    "#     f.write('user_id;movie_id;vote;datetime_watched\\n')"
   ]
  },
  {
   "cell_type": "code",
   "execution_count": 5,
   "metadata": {},
   "outputs": [
    {
     "data": {
      "text/plain": [
       "'users_with_votes_new.txt'"
      ]
     },
     "execution_count": 5,
     "metadata": {},
     "output_type": "execute_result"
    }
   ],
   "source": [
    "users_with_votes_file"
   ]
  },
  {
   "cell_type": "code",
   "execution_count": 6,
   "metadata": {},
   "outputs": [
    {
     "name": "stdout",
     "output_type": "stream",
     "text": [
      "kp_users.csv\n",
      "kp_movies.csv\n",
      "kp_users_votes.csv\n"
     ]
    }
   ],
   "source": [
    "print (out_filename_users)\n",
    "print (out_filename_movies)\n",
    "print (out_filename_votes)"
   ]
  },
  {
   "cell_type": "markdown",
   "metadata": {},
   "source": [
    "### Вычтем тех пользователей, которые уже обработаны"
   ]
  },
  {
   "cell_type": "code",
   "execution_count": 7,
   "metadata": {},
   "outputs": [],
   "source": [
    "to_process_users = read_users_set(users_with_votes_file) - already_processed_users"
   ]
  },
  {
   "cell_type": "code",
   "execution_count": 8,
   "metadata": {},
   "outputs": [
    {
     "data": {
      "text/plain": [
       "859428"
      ]
     },
     "execution_count": 8,
     "metadata": {},
     "output_type": "execute_result"
    }
   ],
   "source": [
    "len(to_process_users)"
   ]
  },
  {
   "cell_type": "code",
   "execution_count": 9,
   "metadata": {},
   "outputs": [
    {
     "data": {
      "text/plain": [
       "'https://www.kinopoisk.ru'"
      ]
     },
     "execution_count": 9,
     "metadata": {},
     "output_type": "execute_result"
    }
   ],
   "source": [
    "base_url"
   ]
  },
  {
   "cell_type": "markdown",
   "metadata": {},
   "source": [
    "### Процесс краулинга. Очень очень очень долго! Может запараллелить?\n",
    "### А нужны-ли нам все-все-все пользователи?"
   ]
  },
  {
   "cell_type": "code",
   "execution_count": null,
   "metadata": {
    "scrolled": false
   },
   "outputs": [
    {
     "data": {
      "application/vnd.jupyter.widget-view+json": {
       "model_id": "5027ff8021fd4bbf9e2f8360045dbdf6",
       "version_major": 2,
       "version_minor": 0
      },
      "text/plain": [
       "HBox(children=(IntProgress(value=0, max=859428), HTML(value='')))"
      ]
     },
     "metadata": {},
     "output_type": "display_data"
    },
    {
     "name": "stdout",
     "output_type": "stream",
     "text": [
      "Counter({'Extracting count_votes: list index out of range': 309, 'Extracting duration: list index out of range': 146, 'user_nickname_is_None': 18, 'day is out of range for month': 2, \"('Connection aborted.', RemoteDisconnected('Remote end closed connection without response'))\": 1, 'Extracting rating: list index out of range': 1})\n",
      "Counter({'Extracting count_votes: list index out of range': 687, 'Extracting duration: list index out of range': 282, 'user_nickname_is_None': 18, 'day is out of range for month': 2, \"('Connection aborted.', RemoteDisconnected('Remote end closed connection without response'))\": 1, 'Extracting rating: list index out of range': 1})\n",
      "Counter({'Extracting count_votes: list index out of range': 1019, 'Extracting duration: list index out of range': 376, 'user_nickname_is_None': 19, 'day is out of range for month': 2, \"('Connection aborted.', RemoteDisconnected('Remote end closed connection without response'))\": 1, 'Extracting rating: list index out of range': 1})\n",
      "Counter({'Extracting count_votes: list index out of range': 4172, 'Extracting duration: list index out of range': 663, 'user_nickname_is_None': 19, 'Extracting rating: list index out of range': 3, 'day is out of range for month': 2, \"('Connection aborted.', RemoteDisconnected('Remote end closed connection without response'))\": 1})\n",
      "Counter({'Extracting count_votes: list index out of range': 4477, 'Extracting duration: list index out of range': 815, 'user_nickname_is_None': 19, 'Extracting rating: list index out of range': 6, 'day is out of range for month': 2, \"('Connection aborted.', RemoteDisconnected('Remote end closed connection without response'))\": 1})\n",
      "Counter({'Extracting count_votes: list index out of range': 4845, 'Extracting duration: list index out of range': 967, 'user_nickname_is_None': 19, 'Extracting rating: list index out of range': 8, 'day is out of range for month': 2, \"('Connection aborted.', RemoteDisconnected('Remote end closed connection without response'))\": 1})\n",
      "Counter({'Extracting count_votes: list index out of range': 5155, 'Extracting duration: list index out of range': 1152, 'user_nickname_is_None': 19, 'Extracting rating: list index out of range': 8, 'day is out of range for month': 2, \"('Connection aborted.', RemoteDisconnected('Remote end closed connection without response'))\": 1})\n",
      "Counter({'Extracting count_votes: list index out of range': 5720, 'Extracting duration: list index out of range': 1321, 'user_nickname_is_None': 19, 'Extracting rating: list index out of range': 11, 'day is out of range for month': 2, \"('Connection aborted.', RemoteDisconnected('Remote end closed connection without response'))\": 1})\n",
      "Counter({'Extracting count_votes: list index out of range': 6636, 'Extracting duration: list index out of range': 1493, 'user_nickname_is_None': 20, 'Extracting rating: list index out of range': 15, 'day is out of range for month': 2, \"('Connection aborted.', RemoteDisconnected('Remote end closed connection without response'))\": 1})\n",
      "Counter({'Extracting count_votes: list index out of range': 7181, 'Extracting duration: list index out of range': 1643, 'user_nickname_is_None': 20, 'Extracting rating: list index out of range': 16, 'day is out of range for month': 2, \"('Connection aborted.', RemoteDisconnected('Remote end closed connection without response'))\": 1})\n",
      "Counter({'Extracting count_votes: list index out of range': 7419, 'Extracting duration: list index out of range': 1734, 'user_nickname_is_None': 20, 'Extracting rating: list index out of range': 19, 'day is out of range for month': 2, \"('Connection aborted.', RemoteDisconnected('Remote end closed connection without response'))\": 1})\n",
      "Counter({'Extracting count_votes: list index out of range': 8523, 'Extracting duration: list index out of range': 2194, 'user_nickname_is_None': 20, 'Extracting rating: list index out of range': 19, 'day is out of range for month': 2, \"('Connection aborted.', RemoteDisconnected('Remote end closed connection without response'))\": 1})\n",
      "Counter({'Extracting count_votes: list index out of range': 8877, 'Extracting duration: list index out of range': 2332, 'Extracting rating: list index out of range': 21, 'user_nickname_is_None': 20, 'day is out of range for month': 2, \"('Connection aborted.', RemoteDisconnected('Remote end closed connection without response'))\": 1})\n",
      "Counter({'Extracting count_votes: list index out of range': 9749, 'Extracting duration: list index out of range': 2553, 'Extracting rating: list index out of range': 23, 'user_nickname_is_None': 21, 'day is out of range for month': 2, \"('Connection aborted.', RemoteDisconnected('Remote end closed connection without response'))\": 1})\n",
      "Counter({'Extracting count_votes: list index out of range': 10265, 'Extracting duration: list index out of range': 2661, 'Extracting rating: list index out of range': 25, 'user_nickname_is_None': 21, 'day is out of range for month': 2, \"('Connection aborted.', RemoteDisconnected('Remote end closed connection without response'))\": 1})\n",
      "Counter({'Extracting count_votes: list index out of range': 10698, 'Extracting duration: list index out of range': 2834, 'Extracting rating: list index out of range': 25, 'user_nickname_is_None': 21, 'day is out of range for month': 2, \"('Connection aborted.', RemoteDisconnected('Remote end closed connection without response'))\": 1})\n",
      "Counter({'Extracting count_votes: list index out of range': 11161, 'Extracting duration: list index out of range': 2976, 'Extracting rating: list index out of range': 25, 'user_nickname_is_None': 21, 'day is out of range for month': 2, \"('Connection aborted.', RemoteDisconnected('Remote end closed connection without response'))\": 1})\n",
      "Counter({'Extracting count_votes: list index out of range': 11605, 'Extracting duration: list index out of range': 3251, 'Extracting rating: list index out of range': 25, 'user_nickname_is_None': 21, 'day is out of range for month': 2, \"('Connection aborted.', RemoteDisconnected('Remote end closed connection without response'))\": 1})\n",
      "Counter({'Extracting count_votes: list index out of range': 11987, 'Extracting duration: list index out of range': 3652, 'Extracting rating: list index out of range': 27, 'user_nickname_is_None': 21, 'day is out of range for month': 2, \"('Connection aborted.', RemoteDisconnected('Remote end closed connection without response'))\": 1})\n",
      "Counter({'Extracting count_votes: list index out of range': 12412, 'Extracting duration: list index out of range': 3811, 'Extracting rating: list index out of range': 29, 'user_nickname_is_None': 21, 'day is out of range for month': 2, \"('Connection aborted.', RemoteDisconnected('Remote end closed connection without response'))\": 1})\n",
      "Counter({'Extracting count_votes: list index out of range': 12628, 'Extracting duration: list index out of range': 3906, 'Extracting rating: list index out of range': 29, 'user_nickname_is_None': 21, 'day is out of range for month': 2, \"('Connection aborted.', RemoteDisconnected('Remote end closed connection without response'))\": 1})\n",
      "Counter({'Extracting count_votes: list index out of range': 14001, 'Extracting duration: list index out of range': 4182, 'Extracting rating: list index out of range': 36, 'user_nickname_is_None': 21, 'day is out of range for month': 2, \"('Connection aborted.', RemoteDisconnected('Remote end closed connection without response'))\": 1})\n",
      "Counter({'Extracting count_votes: list index out of range': 14708, 'Extracting duration: list index out of range': 4363, 'Extracting rating: list index out of range': 39, 'user_nickname_is_None': 21, 'day is out of range for month': 2, \"('Connection aborted.', RemoteDisconnected('Remote end closed connection without response'))\": 1})\n",
      "Counter({'Extracting count_votes: list index out of range': 16822, 'Extracting duration: list index out of range': 4636, 'Extracting rating: list index out of range': 43, 'user_nickname_is_None': 21, 'day is out of range for month': 2, \"('Connection aborted.', RemoteDisconnected('Remote end closed connection without response'))\": 1})\n",
      "Counter({'Extracting count_votes: list index out of range': 17992, 'Extracting duration: list index out of range': 4963, 'Extracting rating: list index out of range': 45, 'user_nickname_is_None': 22, 'day is out of range for month': 2, \"('Connection aborted.', RemoteDisconnected('Remote end closed connection without response'))\": 1})\n",
      "Counter({'Extracting count_votes: list index out of range': 18476, 'Extracting duration: list index out of range': 5163, 'Extracting rating: list index out of range': 46, 'user_nickname_is_None': 22, 'day is out of range for month': 2, \"('Connection aborted.', RemoteDisconnected('Remote end closed connection without response'))\": 1})\n"
     ]
    }
   ],
   "source": [
    "users_batch_dict = dict()\n",
    "votes_batch_dict = dict()\n",
    "while len(to_process_users) != 0:\n",
    "    i = 0\n",
    "    for userid in tqdm(list(to_process_users)):\n",
    "        try:\n",
    "            s.headers.update({\n",
    "                    'Referer' : base_url,\n",
    "                })\n",
    "            user  = get_user_info(userid, s)\n",
    "            if user['nickname'] is None:\n",
    "                counter['user_nickname_is_None'] += 1\n",
    "                continue\n",
    "                \n",
    "            s.headers.update({\n",
    "                    'Referer' : make_user_url(userid),\n",
    "                })\n",
    "            votes = get_user_votes_for_films(userid, s)\n",
    "            if votes is not None:\n",
    "#                 {'/film/vam-i-ne-snilos-1980-45660/': {'nameRus': 'Вам и не снилось... (1980)',\n",
    "#                   'href': '/film/vam-i-ne-snilos-1980-45660/',\n",
    "#                   'rating': 8.191,\n",
    "#                   'count_votes': 46370,\n",
    "#                   'duration': '86 мин.',\n",
    "#                   'nameEng': '',\n",
    "#                   'date': '17.11.2015, 20:51',\n",
    "#                   'vote': 10},\n",
    "#                   ...\n",
    "#                 }\n",
    "                votes_batch_dict[userid] = [d for href, d in votes.items()]\n",
    "                users_batch_dict[userid] = user\n",
    "            else:\n",
    "                counter['votes_is_None'] += 1\n",
    "\n",
    "        except Exception as e:\n",
    "#             print (\"ERROR while processing userid {}:\".format(userid), str(e))\n",
    "            counter[str(e)] += 1\n",
    "\n",
    "        if i > 0 and i % 500 == 0:\n",
    "            write_batch_user_votes(users_batch_dict, votes_batch_dict, \n",
    "                                   already_saved_movies,\n",
    "                                   out_filename_users, out_filename_votes, out_filename_movies)\n",
    "            print (counter)\n",
    "            users_batch_dict = dict()\n",
    "            votes_batch_dict = dict()\n",
    "            \n",
    "        i = i + 1\n",
    "        already_processed_users.add(userid)\n",
    "\n",
    "    to_process_users = read_users_set(users_with_votes_file) - already_processed_users\n",
    "    \n",
    "if len(users_batch_dict) > 0 and len(votes_batch_dict) > 0:\n",
    "    write_batch_user_votes(users_batch_dict, votes_batch_dict, \n",
    "                           already_saved_movies,\n",
    "                           out_filename_users, out_filename_votes, out_filename_movies)\n",
    "\n",
    "print (counter)"
   ]
  }
 ],
 "metadata": {
  "kernelspec": {
   "display_name": "Python 3",
   "language": "python",
   "name": "python3"
  },
  "language_info": {
   "codemirror_mode": {
    "name": "ipython",
    "version": 3
   },
   "file_extension": ".py",
   "mimetype": "text/x-python",
   "name": "python",
   "nbconvert_exporter": "python",
   "pygments_lexer": "ipython3",
   "version": "3.7.0"
  }
 },
 "nbformat": 4,
 "nbformat_minor": 2
}
