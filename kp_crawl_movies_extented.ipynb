{
 "cells": [
  {
   "cell_type": "code",
   "execution_count": null,
   "metadata": {},
   "outputs": [],
   "source": [
    "from tqdm import tqdm_notebook as tqdm\n",
    "\n",
    "from kp_utils import *"
   ]
  },
  {
   "cell_type": "markdown",
   "metadata": {},
   "source": [
    "### Загружаем список фильмов, информацию по которым нужно скачать"
   ]
  },
  {
   "cell_type": "code",
   "execution_count": null,
   "metadata": {},
   "outputs": [],
   "source": [
    "filename_movies_extented = 'kp_movies_extented.csv'\n",
    "\n",
    "filename_movies = 'kp_movies.csv'\n",
    "movies = pd.read_csv(filename_movies, delimiter=';', header=0)"
   ]
  },
  {
   "cell_type": "code",
   "execution_count": null,
   "metadata": {},
   "outputs": [],
   "source": [
    "movies"
   ]
  },
  {
   "cell_type": "code",
   "execution_count": null,
   "metadata": {},
   "outputs": [],
   "source": [
    "movies_ids_hrefs = { (int(m[0]), m[1])  for m in movies.values}\n",
    "len(movies_ids_hrefs)"
   ]
  },
  {
   "cell_type": "code",
   "execution_count": null,
   "metadata": {},
   "outputs": [],
   "source": [
    "# establishing session\n",
    "s = requests.Session() \n",
    "s.headers.update({\n",
    "        'Referer': 'http://www.kinopoisk.ru',\n",
    "        'User-Agent': 'Mozilla/5.0 (Windows NT 10.0; Win64; x64) AppleWebKit/537.36 (KHTML, like Gecko) Chrome/70.0.3538.102 Safari/537.36',\n",
    "        'Host': \"www.kinopoisk.ru\",\n",
    "        'Upgrade-Insecure-Requests': '1',\n",
    "        'Cookie': \"mobile=no; noflash=true; hideBlocks=0; my_perpages=%7B%2277%22%3A200%2C%2279votes%22%3A200%7D\",\n",
    "        'Accept-Language': 'ru-RU,ru;q=0.9,en-US;q=0.8,en;q=0.7,de;q=0.6',\n",
    "        'Referer' : 'https://www.kinopoisk.ru',\n",
    "        'Accept'  : \"text/html,application/xhtml+xml,application/xml;q=0.9,image/webp,image/apng,*/*;q=0.8\",\n",
    "        'Connection': 'keep-alive'    \n",
    "    })"
   ]
  },
  {
   "cell_type": "code",
   "execution_count": null,
   "metadata": {},
   "outputs": [],
   "source": [
    "filename_movies_extented"
   ]
  },
  {
   "cell_type": "markdown",
   "metadata": {},
   "source": [
    "### Вычтем фильмы, расширенная информация по которым уже скачана"
   ]
  },
  {
   "cell_type": "code",
   "execution_count": null,
   "metadata": {},
   "outputs": [],
   "source": [
    "movies_ids_hrefs = movies_ids_hrefs - get_already_processed_movies(filename_movies_extented)\n",
    "len(movies_ids_hrefs)"
   ]
  },
  {
   "cell_type": "markdown",
   "metadata": {},
   "source": [
    "### Процесс краулинга. Долго, конечно"
   ]
  },
  {
   "cell_type": "code",
   "execution_count": null,
   "metadata": {},
   "outputs": [],
   "source": [
    "counter"
   ]
  },
  {
   "cell_type": "code",
   "execution_count": null,
   "metadata": {},
   "outputs": [],
   "source": [
    "import time\n",
    "\n",
    "movies_ids_hrefs = get_movies_ids_hrefs_to_process(filename_movies) - get_already_processed_movies(filename_movies_extented)\n",
    "while True:\n",
    "    movies_batch = list()\n",
    "    previous_film_url = base_url\n",
    "    for i, m in enumerate(tqdm(movies_ids_hrefs)):\n",
    "        s.headers.update({\n",
    "            'Referer' : previous_film_url,\n",
    "        })\n",
    "        movie_id   = m[0]\n",
    "        movie_href = m[1]\n",
    "\n",
    "        try:\n",
    "            html_movie = get_movie_html(movie_href, s)\n",
    "        except Exception as e:\n",
    "            html_movie = None\n",
    "            counter['get_movie_html: %s'%str(e)] += 1\n",
    "\n",
    "        if html_movie is not None:\n",
    "            movie       = parse_movie_html(html_movie)\n",
    "            movie['id']   = movie_id\n",
    "            movie['href'] = movie_href\n",
    "            movies_batch.append(movie)\n",
    "        else:\n",
    "            counter['html_movie is None'] += 1\n",
    "            continue\n",
    "\n",
    "        if i > 0 and i % 1000 == 0:\n",
    "            write_batch_movies(movies_batch, filename_movies_extented)\n",
    "            movies_batch = list()\n",
    "            print (counter)\n",
    "\n",
    "        previous_film_url = make_movie_url(movie_href)\n",
    "\n",
    "    if len(movies_batch) > 0:\n",
    "        write_batch_movies(movies_batch, filename_movies_extented)\n",
    "        movies_batch = list()\n",
    "\n",
    "    print (counter)\n",
    "    \n",
    "    movies_ids_hrefs = get_movies_ids_hrefs_to_process(filename_movies) - get_already_processed_movies(filename_movies_extented)\n",
    "    while len(movies_ids_hrefs) == 0:\n",
    "        time.sleep(300)\n",
    "        movies_ids_hrefs = get_movies_ids_hrefs_to_process(filename_movies) - get_already_processed_movies(filename_movies_extented)"
   ]
  }
 ],
 "metadata": {
  "kernelspec": {
   "display_name": "Python 3",
   "language": "python",
   "name": "python3"
  },
  "language_info": {
   "codemirror_mode": {
    "name": "ipython",
    "version": 3
   },
   "file_extension": ".py",
   "mimetype": "text/x-python",
   "name": "python",
   "nbconvert_exporter": "python",
   "pygments_lexer": "ipython3",
   "version": "3.7.0"
  }
 },
 "nbformat": 4,
 "nbformat_minor": 2
}
